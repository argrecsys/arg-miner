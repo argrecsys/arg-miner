{
 "cells": [
  {
   "cell_type": "markdown",
   "id": "4e01f89a",
   "metadata": {},
   "source": [
    "# Annotation Data Analysis"
   ]
  },
  {
   "cell_type": "code",
   "execution_count": 1,
   "id": "672b590e",
   "metadata": {},
   "outputs": [],
   "source": [
    "# Importing libraries\n",
    "import yaml\n",
    "import pymongo\n",
    "import pandas as pd\n",
    "from collections import Counter"
   ]
  },
  {
   "cell_type": "code",
   "execution_count": 2,
   "id": "0c372f7c",
   "metadata": {},
   "outputs": [],
   "source": [
    "# Import plot libraries\n",
    "import matplotlib.pyplot as plt"
   ]
  },
  {
   "cell_type": "markdown",
   "id": "7d06b0a0",
   "metadata": {},
   "source": [
    "### Util functions"
   ]
  },
  {
   "cell_type": "code",
   "execution_count": 3,
   "id": "f94dbad4",
   "metadata": {},
   "outputs": [],
   "source": [
    "# File function - Read dict from YAML file\n",
    "def get_dict_from_yaml(yaml_path:str, encoding:str=\"utf-8\") -> dict:\n",
    "    result = dict()\n",
    "    \n",
    "    try:\n",
    "        with open(yaml_path, mode=\"r\", encoding=encoding) as file:\n",
    "            yaml_file = file.read()\n",
    "            result = yaml.load(yaml_file, Loader=yaml.FullLoader)\n",
    "    except Exception as e:\n",
    "        print(e)\n",
    "        \n",
    "    return result"
   ]
  },
  {
   "cell_type": "code",
   "execution_count": 4,
   "id": "8db51341",
   "metadata": {},
   "outputs": [],
   "source": [
    "def string_to_list(str_list:str) -> list:\n",
    "    if str_list == \"[]\":\n",
    "        return []\n",
    "    str_list = str_list.replace(\"[\", \"\").replace(\"]\", \"\").replace(\" \", \"\").replace(\"\\n\", \"\")\n",
    "    return str_list.split(\",\")"
   ]
  },
  {
   "cell_type": "code",
   "execution_count": 5,
   "id": "edebd50e",
   "metadata": {},
   "outputs": [],
   "source": [
    "# Util function - Plot column chart\n",
    "def plot_bar_chart(df, x_var, y_var, title, color='blue', legend=None) -> None:\n",
    "    fig, ax = plt.subplots()\n",
    "    df.plot.barh(ax=ax, x=x_var, y=y_var, alpha=0.75, figsize=figsize)\n",
    "    if legend:\n",
    "        ax.legend(legend)\n",
    "    else:\n",
    "        ax.get_legend().remove()\n",
    "    plt.title(title, fontsize=16)\n",
    "    plt.xlabel(y_var.capitalize(), fontsize=10)\n",
    "    plt.ylabel(x_var.capitalize(), fontsize=10)\n",
    "    plt.show()"
   ]
  },
  {
   "cell_type": "markdown",
   "id": "e80b8483",
   "metadata": {},
   "source": [
    "### Read data"
   ]
  },
  {
   "cell_type": "code",
   "execution_count": 6,
   "id": "5dfa58dc",
   "metadata": {},
   "outputs": [],
   "source": [
    "# Read MongoDB login info\n",
    "filepath = \"config/mdb_setup.yaml\"\n",
    "mdb_login = get_dict_from_yaml(filepath)"
   ]
  },
  {
   "cell_type": "code",
   "execution_count": 7,
   "id": "960f4d66",
   "metadata": {},
   "outputs": [],
   "source": [
    "# Create connetion to MongoDB\n",
    "client  = pymongo.MongoClient(mdb_login['db_server'], mdb_login['db_port'])\n",
    "db = client[mdb_login['db_name']]\n",
    "coll = db[mdb_login['db_collection']]"
   ]
  },
  {
   "cell_type": "code",
   "execution_count": 8,
   "id": "46b695ce",
   "metadata": {},
   "outputs": [
    {
     "name": "stdout",
     "output_type": "stream",
     "text": [
      ">> Number of annotated documents: 4702\n"
     ]
    }
   ],
   "source": [
    "# Query data\n",
    "doc_list = []\n",
    "for doc in coll.find({}):\n",
    "    doc['claim']['nouns'] = string_to_list(doc['claim']['nouns'])\n",
    "    doc['claim']['entities'] = string_to_list(doc['claim']['entities'])\n",
    "    doc['majorClaim']['nouns'] = string_to_list(doc['majorClaim']['nouns'])\n",
    "    doc['majorClaim']['entities'] = string_to_list(doc['majorClaim']['entities'])\n",
    "    doc['premise']['nouns'] = string_to_list(doc['premise']['nouns'])\n",
    "    doc['premise']['entities'] = string_to_list(doc['premise']['entities'])\n",
    "    doc_list.append(doc)\n",
    "\n",
    "print(\">> Number of annotated documents:\", len(doc_list))"
   ]
  },
  {
   "cell_type": "code",
   "execution_count": 9,
   "id": "9570e40b",
   "metadata": {},
   "outputs": [
    {
     "data": {
      "text/plain": [
       "{'_id': ObjectId('618315e580c699e1073e9a16'),\n",
       " 'argumentID': '5-1',\n",
       " 'approach': 'A2 -> C+(L+P)',\n",
       " 'claim': {'text': 'Mi idea es dar un uso al arco de la victoria de Moncloa , en lugar de demolerlo , como soporte',\n",
       "  'nouns': ['idea',\n",
       "   'uso',\n",
       "   'arco',\n",
       "   'victoria',\n",
       "   'lugar',\n",
       "   'demolerlo',\n",
       "   'soporte'],\n",
       "  'entities': ['Moncloa']},\n",
       " 'linker': {'linker': 'para',\n",
       "  'category': 'CONSEQUENCE',\n",
       "  'subCategory': 'GOAL',\n",
       "  'relationType': 'support'},\n",
       " 'mainVerb': 'dar',\n",
       " 'majorClaim': {'text': 'Uso artistico y de promocion del  Arco de la Victoria',\n",
       "  'nouns': ['Uso', 'promocion'],\n",
       "  'entities': ['de']},\n",
       " 'premise': {'text': 'promos de actividades en Madrid',\n",
       "  'nouns': ['promos', 'actividades'],\n",
       "  'entities': []},\n",
       " 'proposalID': 5,\n",
       " 'sentence': 'Mi idea es dar un uso al arco de la victoria de Moncloa, en lugar de demolerlo, como soporte para promos de actividades en Madrid (semana del orgullo gay, congresos mundiales, eventos futbol, etc)'}"
      ]
     },
     "execution_count": 9,
     "metadata": {},
     "output_type": "execute_result"
    }
   ],
   "source": [
    "doc_list[0]"
   ]
  },
  {
   "cell_type": "markdown",
   "id": "f930d027",
   "metadata": {},
   "source": [
    "## Data Processing"
   ]
  },
  {
   "cell_type": "code",
   "execution_count": 10,
   "id": "2d1c3edb",
   "metadata": {},
   "outputs": [],
   "source": [
    "# Local variables\n",
    "n_top = 20\n",
    "topic_filter = \"\"\n",
    "categories = Counter()\n",
    "sub_categories = Counter()\n",
    "linkers = Counter()\n",
    "relations = Counter()\n",
    "entities = Counter()\n",
    "nouns = Counter()\n",
    "main_verbs = Counter()"
   ]
  },
  {
   "cell_type": "code",
   "execution_count": 11,
   "id": "a00933d1",
   "metadata": {},
   "outputs": [],
   "source": [
    "# Counting data\n",
    "for doc in doc_list:\n",
    "    if doc[\"sentence\"] == \"\" or topic_filter in doc[\"sentence\"]:\n",
    "        \n",
    "        # Linker data\n",
    "        doc_linker = doc[\"linker\"]\n",
    "        categories[doc_linker[\"category\"]] += 1\n",
    "        sub_categories[doc_linker[\"subCategory\"]] += 1\n",
    "        linkers[doc_linker[\"linker\"]] += 1\n",
    "        relations[doc_linker[\"relationType\"]] += 1\n",
    "        \n",
    "        # Entities data\n",
    "        entities_set = set(doc[\"claim\"][\"entities\"] + doc[\"majorClaim\"][\"entities\"] + doc[\"premise\"][\"entities\"])\n",
    "        for entity in entities_set:\n",
    "            entities[entity] += 1\n",
    "            \n",
    "        # Nouns data\n",
    "        nouns_set = set(doc[\"claim\"][\"nouns\"] + doc[\"majorClaim\"][\"nouns\"] + doc[\"premise\"][\"nouns\"])\n",
    "        for entity in nouns_set:\n",
    "            nouns[entity] += 1\n",
    "            \n",
    "        # Verbs data\n",
    "        if doc[\"mainVerb\"] != None:\n",
    "            main_verbs[doc[\"mainVerb\"].lower()] += 1"
   ]
  },
  {
   "cell_type": "markdown",
   "id": "5285f605",
   "metadata": {},
   "source": [
    "### 1. Most used categories"
   ]
  },
  {
   "cell_type": "code",
   "execution_count": 12,
   "id": "745308de",
   "metadata": {},
   "outputs": [
    {
     "data": {
      "text/html": [
       "<div>\n",
       "<style scoped>\n",
       "    .dataframe tbody tr th:only-of-type {\n",
       "        vertical-align: middle;\n",
       "    }\n",
       "\n",
       "    .dataframe tbody tr th {\n",
       "        vertical-align: top;\n",
       "    }\n",
       "\n",
       "    .dataframe thead th {\n",
       "        text-align: right;\n",
       "    }\n",
       "</style>\n",
       "<table border=\"1\" class=\"dataframe\">\n",
       "  <thead>\n",
       "    <tr style=\"text-align: right;\">\n",
       "      <th></th>\n",
       "      <th>categories</th>\n",
       "      <th>frequency</th>\n",
       "      <th>% share</th>\n",
       "    </tr>\n",
       "  </thead>\n",
       "  <tbody>\n",
       "    <tr>\n",
       "      <th>0</th>\n",
       "      <td>CONSEQUENCE</td>\n",
       "      <td>3226</td>\n",
       "      <td>68.61</td>\n",
       "    </tr>\n",
       "    <tr>\n",
       "      <th>1</th>\n",
       "      <td>CAUSE</td>\n",
       "      <td>1189</td>\n",
       "      <td>25.29</td>\n",
       "    </tr>\n",
       "    <tr>\n",
       "      <th>2</th>\n",
       "      <td>EXPLANATION</td>\n",
       "      <td>167</td>\n",
       "      <td>3.55</td>\n",
       "    </tr>\n",
       "    <tr>\n",
       "      <th>3</th>\n",
       "      <td>CONTRAST</td>\n",
       "      <td>119</td>\n",
       "      <td>2.53</td>\n",
       "    </tr>\n",
       "    <tr>\n",
       "      <th>4</th>\n",
       "      <td>ELABORATION</td>\n",
       "      <td>1</td>\n",
       "      <td>0.02</td>\n",
       "    </tr>\n",
       "  </tbody>\n",
       "</table>\n",
       "</div>"
      ],
      "text/plain": [
       "    categories  frequency  % share\n",
       "0  CONSEQUENCE       3226    68.61\n",
       "1        CAUSE       1189    25.29\n",
       "2  EXPLANATION        167     3.55\n",
       "3     CONTRAST        119     2.53\n",
       "4  ELABORATION          1     0.02"
      ]
     },
     "execution_count": 12,
     "metadata": {},
     "output_type": "execute_result"
    }
   ],
   "source": [
    "# Cooking dataframe\n",
    "top_categories = categories.most_common(n_top)\n",
    "df = pd.DataFrame.from_records(top_categories, columns = ['categories', 'frequency'])\n",
    "df[\"% share\"] = round(100.0 * df[\"frequency\"] / sum(categories.values()), 2)\n",
    "df.head(10)"
   ]
  },
  {
   "cell_type": "code",
   "execution_count": 13,
   "id": "f9d88605",
   "metadata": {},
   "outputs": [
    {
     "data": {
      "image/png": "[encoded data removed]",
      "text/plain": [
       "<Figure size 576x720 with 1 Axes>"
      ]
     },
     "metadata": {
      "needs_background": "light"
     },
     "output_type": "display_data"
    }
   ],
   "source": [
    "# Plot top N most used categories\n",
    "x_var = 'categories'\n",
    "y_var = 'frequency'\n",
    "title = 'Top %s Most used categories' % min(n_top, len(df))\n",
    "figsize = (8, 10)\n",
    "plot_bar_chart(df.sort_values(by=['frequency']), x_var, y_var, title, figsize)"
   ]
  },
  {
   "cell_type": "markdown",
   "id": "68967bc8",
   "metadata": {},
   "source": [
    "### 2. Most common sub-categories"
   ]
  },
  {
   "cell_type": "code",
   "execution_count": 14,
   "id": "af08e706",
   "metadata": {},
   "outputs": [
    {
     "data": {
      "text/html": [
       "<div>\n",
       "<style scoped>\n",
       "    .dataframe tbody tr th:only-of-type {\n",
       "        vertical-align: middle;\n",
       "    }\n",
       "\n",
       "    .dataframe tbody tr th {\n",
       "        vertical-align: top;\n",
       "    }\n",
       "\n",
       "    .dataframe thead th {\n",
       "        text-align: right;\n",
       "    }\n",
       "</style>\n",
       "<table border=\"1\" class=\"dataframe\">\n",
       "  <thead>\n",
       "    <tr style=\"text-align: right;\">\n",
       "      <th></th>\n",
       "      <th>subcategories</th>\n",
       "      <th>frequency</th>\n",
       "      <th>% share</th>\n",
       "    </tr>\n",
       "  </thead>\n",
       "  <tbody>\n",
       "    <tr>\n",
       "      <th>0</th>\n",
       "      <td>GOAL</td>\n",
       "      <td>3158</td>\n",
       "      <td>67.16</td>\n",
       "    </tr>\n",
       "    <tr>\n",
       "      <th>1</th>\n",
       "      <td>CONDITION</td>\n",
       "      <td>662</td>\n",
       "      <td>14.08</td>\n",
       "    </tr>\n",
       "    <tr>\n",
       "      <th>2</th>\n",
       "      <td>REASON</td>\n",
       "      <td>527</td>\n",
       "      <td>11.21</td>\n",
       "    </tr>\n",
       "    <tr>\n",
       "      <th>3</th>\n",
       "      <td>EXEMPLIFICATION</td>\n",
       "      <td>137</td>\n",
       "      <td>2.91</td>\n",
       "    </tr>\n",
       "    <tr>\n",
       "      <th>4</th>\n",
       "      <td>ALTERNATIVE</td>\n",
       "      <td>119</td>\n",
       "      <td>2.53</td>\n",
       "    </tr>\n",
       "    <tr>\n",
       "      <th>5</th>\n",
       "      <td>RESULT</td>\n",
       "      <td>68</td>\n",
       "      <td>1.45</td>\n",
       "    </tr>\n",
       "    <tr>\n",
       "      <th>6</th>\n",
       "      <td>RESTATEMENT</td>\n",
       "      <td>29</td>\n",
       "      <td>0.62</td>\n",
       "    </tr>\n",
       "    <tr>\n",
       "      <th>7</th>\n",
       "      <td>SUMMARY</td>\n",
       "      <td>1</td>\n",
       "      <td>0.02</td>\n",
       "    </tr>\n",
       "    <tr>\n",
       "      <th>8</th>\n",
       "      <td>ADDITION</td>\n",
       "      <td>1</td>\n",
       "      <td>0.02</td>\n",
       "    </tr>\n",
       "  </tbody>\n",
       "</table>\n",
       "</div>"
      ],
      "text/plain": [
       "     subcategories  frequency  % share\n",
       "0             GOAL       3158    67.16\n",
       "1        CONDITION        662    14.08\n",
       "2           REASON        527    11.21\n",
       "3  EXEMPLIFICATION        137     2.91\n",
       "4      ALTERNATIVE        119     2.53\n",
       "5           RESULT         68     1.45\n",
       "6      RESTATEMENT         29     0.62\n",
       "7          SUMMARY          1     0.02\n",
       "8         ADDITION          1     0.02"
      ]
     },
     "execution_count": 14,
     "metadata": {},
     "output_type": "execute_result"
    }
   ],
   "source": [
    "# Cooking dataframe\n",
    "top_sub_categories = sub_categories.most_common(n_top)\n",
    "df = pd.DataFrame.from_records(top_sub_categories, columns = ['subcategories', 'frequency'])\n",
    "df[\"% share\"] = round(100.0 * df[\"frequency\"] / sum(sub_categories.values()), 2)\n",
    "df.head(10)"
   ]
  },
  {
   "cell_type": "code",
   "execution_count": 15,
   "id": "acf63fc0",
   "metadata": {},
   "outputs": [
    {
     "data": {
      "image/png": "[encoded data removed]",
      "text/plain": [
       "<Figure size 576x720 with 1 Axes>"
      ]
     },
     "metadata": {
      "needs_background": "light"
     },
     "output_type": "display_data"
    }
   ],
   "source": [
    "# Plot top N most used sub-categories\n",
    "x_var = 'subcategories'\n",
    "y_var = 'frequency'\n",
    "title = 'Top %s Most used sub-categories' % min(n_top, len(df))\n",
    "figsize = (8, 10)\n",
    "plot_bar_chart(df.sort_values(by=['frequency']), x_var, y_var, title, figsize)"
   ]
  },
  {
   "cell_type": "markdown",
   "id": "0c5ee74e",
   "metadata": {},
   "source": [
    "### 3. Most used linkers"
   ]
  },
  {
   "cell_type": "code",
   "execution_count": 16,
   "id": "dea2c23e",
   "metadata": {},
   "outputs": [
    {
     "data": {
      "text/html": [
       "<div>\n",
       "<style scoped>\n",
       "    .dataframe tbody tr th:only-of-type {\n",
       "        vertical-align: middle;\n",
       "    }\n",
       "\n",
       "    .dataframe tbody tr th {\n",
       "        vertical-align: top;\n",
       "    }\n",
       "\n",
       "    .dataframe thead th {\n",
       "        text-align: right;\n",
       "    }\n",
       "</style>\n",
       "<table border=\"1\" class=\"dataframe\">\n",
       "  <thead>\n",
       "    <tr style=\"text-align: right;\">\n",
       "      <th></th>\n",
       "      <th>linkers</th>\n",
       "      <th>frequency</th>\n",
       "      <th>% share</th>\n",
       "    </tr>\n",
       "  </thead>\n",
       "  <tbody>\n",
       "    <tr>\n",
       "      <th>0</th>\n",
       "      <td>para</td>\n",
       "      <td>3115</td>\n",
       "      <td>66.25</td>\n",
       "    </tr>\n",
       "    <tr>\n",
       "      <th>1</th>\n",
       "      <td>si</td>\n",
       "      <td>445</td>\n",
       "      <td>9.46</td>\n",
       "    </tr>\n",
       "    <tr>\n",
       "      <th>2</th>\n",
       "      <td>ya que</td>\n",
       "      <td>228</td>\n",
       "      <td>4.85</td>\n",
       "    </tr>\n",
       "    <tr>\n",
       "      <th>3</th>\n",
       "      <td>porque</td>\n",
       "      <td>160</td>\n",
       "      <td>3.40</td>\n",
       "    </tr>\n",
       "    <tr>\n",
       "      <th>4</th>\n",
       "      <td>por ejemplo</td>\n",
       "      <td>90</td>\n",
       "      <td>1.91</td>\n",
       "    </tr>\n",
       "    <tr>\n",
       "      <th>5</th>\n",
       "      <td>ante</td>\n",
       "      <td>67</td>\n",
       "      <td>1.42</td>\n",
       "    </tr>\n",
       "    <tr>\n",
       "      <th>6</th>\n",
       "      <td>pues</td>\n",
       "      <td>49</td>\n",
       "      <td>1.04</td>\n",
       "    </tr>\n",
       "    <tr>\n",
       "      <th>7</th>\n",
       "      <td>ni</td>\n",
       "      <td>42</td>\n",
       "      <td>0.89</td>\n",
       "    </tr>\n",
       "    <tr>\n",
       "      <th>8</th>\n",
       "      <td>debido a</td>\n",
       "      <td>40</td>\n",
       "      <td>0.85</td>\n",
       "    </tr>\n",
       "    <tr>\n",
       "      <th>9</th>\n",
       "      <td>o</td>\n",
       "      <td>37</td>\n",
       "      <td>0.79</td>\n",
       "    </tr>\n",
       "  </tbody>\n",
       "</table>\n",
       "</div>"
      ],
      "text/plain": [
       "       linkers  frequency  % share\n",
       "0         para       3115    66.25\n",
       "1           si        445     9.46\n",
       "2       ya que        228     4.85\n",
       "3       porque        160     3.40\n",
       "4  por ejemplo         90     1.91\n",
       "5         ante         67     1.42\n",
       "6         pues         49     1.04\n",
       "7           ni         42     0.89\n",
       "8     debido a         40     0.85\n",
       "9            o         37     0.79"
      ]
     },
     "execution_count": 16,
     "metadata": {},
     "output_type": "execute_result"
    }
   ],
   "source": [
    "# Cooking dataframe\n",
    "top_linkers = linkers.most_common(n_top)\n",
    "df = pd.DataFrame.from_records(top_linkers, columns = ['linkers', 'frequency'])\n",
    "df[\"% share\"] = round(100.0 * df[\"frequency\"] / sum(linkers.values()), 2)\n",
    "df.head(10)"
   ]
  },
  {
   "cell_type": "code",
   "execution_count": 17,
   "id": "b1c7f060",
   "metadata": {},
   "outputs": [
    {
     "data": {
      "image/png": "[encoded data removed]",
      "text/plain": [
       "<Figure size 576x720 with 1 Axes>"
      ]
     },
     "metadata": {
      "needs_background": "light"
     },
     "output_type": "display_data"
    }
   ],
   "source": [
    "# Plot top N most used linkers\n",
    "x_var = 'linkers'\n",
    "y_var = 'frequency'\n",
    "title = 'Top %s Most used linkers' % min(n_top, len(df))\n",
    "figsize = (8, 10)\n",
    "plot_bar_chart(df.sort_values(by=['frequency']), x_var, y_var, title, figsize)"
   ]
  },
  {
   "cell_type": "markdown",
   "id": "d3ed8bf9",
   "metadata": {},
   "source": [
    "### 4. Most common entities"
   ]
  },
  {
   "cell_type": "code",
   "execution_count": 18,
   "id": "66e312e8",
   "metadata": {},
   "outputs": [
    {
     "data": {
      "text/html": [
       "<div>\n",
       "<style scoped>\n",
       "    .dataframe tbody tr th:only-of-type {\n",
       "        vertical-align: middle;\n",
       "    }\n",
       "\n",
       "    .dataframe tbody tr th {\n",
       "        vertical-align: top;\n",
       "    }\n",
       "\n",
       "    .dataframe thead th {\n",
       "        text-align: right;\n",
       "    }\n",
       "</style>\n",
       "<table border=\"1\" class=\"dataframe\">\n",
       "  <thead>\n",
       "    <tr style=\"text-align: right;\">\n",
       "      <th></th>\n",
       "      <th>entities</th>\n",
       "      <th>frequency</th>\n",
       "      <th>% share</th>\n",
       "    </tr>\n",
       "  </thead>\n",
       "  <tbody>\n",
       "    <tr>\n",
       "      <th>0</th>\n",
       "      <td>Ayuntamiento</td>\n",
       "      <td>102</td>\n",
       "      <td>2.56</td>\n",
       "    </tr>\n",
       "    <tr>\n",
       "      <th>1</th>\n",
       "      <td>EMT</td>\n",
       "      <td>55</td>\n",
       "      <td>1.38</td>\n",
       "    </tr>\n",
       "    <tr>\n",
       "      <th>2</th>\n",
       "      <td>Vallecas</td>\n",
       "      <td>42</td>\n",
       "      <td>1.06</td>\n",
       "    </tr>\n",
       "    <tr>\n",
       "      <th>3</th>\n",
       "      <td>Rio</td>\n",
       "      <td>36</td>\n",
       "      <td>0.90</td>\n",
       "    </tr>\n",
       "    <tr>\n",
       "      <th>4</th>\n",
       "      <td>AyuntamientodeMadrid</td>\n",
       "      <td>32</td>\n",
       "      <td>0.80</td>\n",
       "    </tr>\n",
       "    <tr>\n",
       "      <th>5</th>\n",
       "      <td>Valdebebas</td>\n",
       "      <td>30</td>\n",
       "      <td>0.75</td>\n",
       "    </tr>\n",
       "    <tr>\n",
       "      <th>6</th>\n",
       "      <td>Moratalaz</td>\n",
       "      <td>30</td>\n",
       "      <td>0.75</td>\n",
       "    </tr>\n",
       "    <tr>\n",
       "      <th>7</th>\n",
       "      <td>M-30</td>\n",
       "      <td>28</td>\n",
       "      <td>0.70</td>\n",
       "    </tr>\n",
       "    <tr>\n",
       "      <th>8</th>\n",
       "      <td>Sanchinarro</td>\n",
       "      <td>28</td>\n",
       "      <td>0.70</td>\n",
       "    </tr>\n",
       "    <tr>\n",
       "      <th>9</th>\n",
       "      <td>de</td>\n",
       "      <td>27</td>\n",
       "      <td>0.68</td>\n",
       "    </tr>\n",
       "  </tbody>\n",
       "</table>\n",
       "</div>"
      ],
      "text/plain": [
       "               entities  frequency  % share\n",
       "0          Ayuntamiento        102     2.56\n",
       "1                   EMT         55     1.38\n",
       "2              Vallecas         42     1.06\n",
       "3                   Rio         36     0.90\n",
       "4  AyuntamientodeMadrid         32     0.80\n",
       "5            Valdebebas         30     0.75\n",
       "6             Moratalaz         30     0.75\n",
       "7                  M-30         28     0.70\n",
       "8           Sanchinarro         28     0.70\n",
       "9                    de         27     0.68"
      ]
     },
     "execution_count": 18,
     "metadata": {},
     "output_type": "execute_result"
    }
   ],
   "source": [
    "# Cooking dataframe\n",
    "top_entities = entities.most_common(n_top)\n",
    "df = pd.DataFrame.from_records(top_entities, columns = ['entities', 'frequency'])\n",
    "df[\"% share\"] = round(100.0 * df[\"frequency\"] / sum(entities.values()), 2)\n",
    "df.head(10)"
   ]
  },
  {
   "cell_type": "code",
   "execution_count": 19,
   "id": "b97f27fa",
   "metadata": {},
   "outputs": [
    {
     "data": {
      "image/png": "[encoded data removed]",
      "text/plain": [
       "<Figure size 576x720 with 1 Axes>"
      ]
     },
     "metadata": {
      "needs_background": "light"
     },
     "output_type": "display_data"
    }
   ],
   "source": [
    "# Plot top N most used entities\n",
    "x_var = 'entities'\n",
    "y_var = 'frequency'\n",
    "title = 'Top %s Most used entities' % min(n_top, len(df))\n",
    "figsize = (8, 10)\n",
    "plot_bar_chart(df.sort_values(by=['frequency']), x_var, y_var, title, figsize)"
   ]
  },
  {
   "cell_type": "markdown",
   "id": "8cf1504a",
   "metadata": {},
   "source": [
    "### 5. Most common nouns"
   ]
  },
  {
   "cell_type": "code",
   "execution_count": 20,
   "id": "359e5d0c",
   "metadata": {},
   "outputs": [
    {
     "data": {
      "text/html": [
       "<div>\n",
       "<style scoped>\n",
       "    .dataframe tbody tr th:only-of-type {\n",
       "        vertical-align: middle;\n",
       "    }\n",
       "\n",
       "    .dataframe tbody tr th {\n",
       "        vertical-align: top;\n",
       "    }\n",
       "\n",
       "    .dataframe thead th {\n",
       "        text-align: right;\n",
       "    }\n",
       "</style>\n",
       "<table border=\"1\" class=\"dataframe\">\n",
       "  <thead>\n",
       "    <tr style=\"text-align: right;\">\n",
       "      <th></th>\n",
       "      <th>nouns</th>\n",
       "      <th>frequency</th>\n",
       "      <th>% share</th>\n",
       "    </tr>\n",
       "  </thead>\n",
       "  <tbody>\n",
       "    <tr>\n",
       "      <th>0</th>\n",
       "      <td>calle</td>\n",
       "      <td>367</td>\n",
       "      <td>1.35</td>\n",
       "    </tr>\n",
       "    <tr>\n",
       "      <th>1</th>\n",
       "      <td>zona</td>\n",
       "      <td>336</td>\n",
       "      <td>1.24</td>\n",
       "    </tr>\n",
       "    <tr>\n",
       "      <th>2</th>\n",
       "      <td>calles</td>\n",
       "      <td>259</td>\n",
       "      <td>0.95</td>\n",
       "    </tr>\n",
       "    <tr>\n",
       "      <th>3</th>\n",
       "      <td>barrio</td>\n",
       "      <td>258</td>\n",
       "      <td>0.95</td>\n",
       "    </tr>\n",
       "    <tr>\n",
       "      <th>4</th>\n",
       "      <td>personas</td>\n",
       "      <td>216</td>\n",
       "      <td>0.79</td>\n",
       "    </tr>\n",
       "    <tr>\n",
       "      <th>5</th>\n",
       "      <td>parque</td>\n",
       "      <td>212</td>\n",
       "      <td>0.78</td>\n",
       "    </tr>\n",
       "    <tr>\n",
       "      <th>6</th>\n",
       "      <td>ciudad</td>\n",
       "      <td>210</td>\n",
       "      <td>0.77</td>\n",
       "    </tr>\n",
       "    <tr>\n",
       "      <th>7</th>\n",
       "      <td>uso</td>\n",
       "      <td>189</td>\n",
       "      <td>0.70</td>\n",
       "    </tr>\n",
       "    <tr>\n",
       "      <th>8</th>\n",
       "      <td>transporte</td>\n",
       "      <td>189</td>\n",
       "      <td>0.70</td>\n",
       "    </tr>\n",
       "    <tr>\n",
       "      <th>9</th>\n",
       "      <td>zonas</td>\n",
       "      <td>186</td>\n",
       "      <td>0.68</td>\n",
       "    </tr>\n",
       "  </tbody>\n",
       "</table>\n",
       "</div>"
      ],
      "text/plain": [
       "        nouns  frequency  % share\n",
       "0       calle        367     1.35\n",
       "1        zona        336     1.24\n",
       "2      calles        259     0.95\n",
       "3      barrio        258     0.95\n",
       "4    personas        216     0.79\n",
       "5      parque        212     0.78\n",
       "6      ciudad        210     0.77\n",
       "7         uso        189     0.70\n",
       "8  transporte        189     0.70\n",
       "9       zonas        186     0.68"
      ]
     },
     "execution_count": 20,
     "metadata": {},
     "output_type": "execute_result"
    }
   ],
   "source": [
    "# Cooking dataframe\n",
    "top_nouns = nouns.most_common(n_top)\n",
    "df = pd.DataFrame.from_records(top_nouns, columns = ['nouns', 'frequency'])\n",
    "df[\"% share\"] = round(100.0 * df[\"frequency\"] / sum(nouns.values()), 2)\n",
    "df.head(10)"
   ]
  },
  {
   "cell_type": "code",
   "execution_count": 21,
   "id": "5ccf6709",
   "metadata": {},
   "outputs": [
    {
     "data": {
      "image/png": "[encoded data removed]",
      "text/plain": [
       "<Figure size 576x720 with 1 Axes>"
      ]
     },
     "metadata": {
      "needs_background": "light"
     },
     "output_type": "display_data"
    }
   ],
   "source": [
    "# Plot top N most used nouns\n",
    "x_var = 'nouns'\n",
    "y_var = 'frequency'\n",
    "title = 'Top %s Most used nouns' % min(n_top, len(df))\n",
    "figsize = (8, 10)\n",
    "plot_bar_chart(df.sort_values(by=['frequency']), x_var, y_var, title, figsize)"
   ]
  },
  {
   "cell_type": "markdown",
   "id": "8f67be35",
   "metadata": {},
   "source": [
    "### 6. Most common main verbs"
   ]
  },
  {
   "cell_type": "code",
   "execution_count": 22,
   "id": "2506cd3b",
   "metadata": {},
   "outputs": [
    {
     "data": {
      "text/html": [
       "<div>\n",
       "<style scoped>\n",
       "    .dataframe tbody tr th:only-of-type {\n",
       "        vertical-align: middle;\n",
       "    }\n",
       "\n",
       "    .dataframe tbody tr th {\n",
       "        vertical-align: top;\n",
       "    }\n",
       "\n",
       "    .dataframe thead th {\n",
       "        text-align: right;\n",
       "    }\n",
       "</style>\n",
       "<table border=\"1\" class=\"dataframe\">\n",
       "  <thead>\n",
       "    <tr style=\"text-align: right;\">\n",
       "      <th></th>\n",
       "      <th>main verbs</th>\n",
       "      <th>frequency</th>\n",
       "      <th>% share</th>\n",
       "    </tr>\n",
       "  </thead>\n",
       "  <tbody>\n",
       "    <tr>\n",
       "      <th>0</th>\n",
       "      <td>propongo</td>\n",
       "      <td>184</td>\n",
       "      <td>4.23</td>\n",
       "    </tr>\n",
       "    <tr>\n",
       "      <th>1</th>\n",
       "      <td>crear</td>\n",
       "      <td>171</td>\n",
       "      <td>3.94</td>\n",
       "    </tr>\n",
       "    <tr>\n",
       "      <th>2</th>\n",
       "      <td>poner</td>\n",
       "      <td>82</td>\n",
       "      <td>1.89</td>\n",
       "    </tr>\n",
       "    <tr>\n",
       "      <th>3</th>\n",
       "      <td>hacer</td>\n",
       "      <td>66</td>\n",
       "      <td>1.52</td>\n",
       "    </tr>\n",
       "    <tr>\n",
       "      <th>4</th>\n",
       "      <td>ampliar</td>\n",
       "      <td>62</td>\n",
       "      <td>1.43</td>\n",
       "    </tr>\n",
       "    <tr>\n",
       "      <th>5</th>\n",
       "      <td>creo</td>\n",
       "      <td>54</td>\n",
       "      <td>1.24</td>\n",
       "    </tr>\n",
       "    <tr>\n",
       "      <th>6</th>\n",
       "      <td>tiene</td>\n",
       "      <td>52</td>\n",
       "      <td>1.20</td>\n",
       "    </tr>\n",
       "    <tr>\n",
       "      <th>7</th>\n",
       "      <td>gustaria</td>\n",
       "      <td>48</td>\n",
       "      <td>1.10</td>\n",
       "    </tr>\n",
       "    <tr>\n",
       "      <th>8</th>\n",
       "      <td>habilitar</td>\n",
       "      <td>47</td>\n",
       "      <td>1.08</td>\n",
       "    </tr>\n",
       "    <tr>\n",
       "      <th>9</th>\n",
       "      <td>tienen</td>\n",
       "      <td>46</td>\n",
       "      <td>1.06</td>\n",
       "    </tr>\n",
       "  </tbody>\n",
       "</table>\n",
       "</div>"
      ],
      "text/plain": [
       "  main verbs  frequency  % share\n",
       "0   propongo        184     4.23\n",
       "1      crear        171     3.94\n",
       "2      poner         82     1.89\n",
       "3      hacer         66     1.52\n",
       "4    ampliar         62     1.43\n",
       "5       creo         54     1.24\n",
       "6      tiene         52     1.20\n",
       "7   gustaria         48     1.10\n",
       "8  habilitar         47     1.08\n",
       "9     tienen         46     1.06"
      ]
     },
     "execution_count": 22,
     "metadata": {},
     "output_type": "execute_result"
    }
   ],
   "source": [
    "# Cooking dataframe\n",
    "top_main_verbs = main_verbs.most_common(n_top)\n",
    "df = pd.DataFrame.from_records(top_main_verbs, columns = ['main verbs', 'frequency'])\n",
    "df[\"% share\"] = round(100.0 * df[\"frequency\"] / sum(main_verbs.values()), 2)\n",
    "df.head(10)"
   ]
  },
  {
   "cell_type": "code",
   "execution_count": 23,
   "id": "e5729520",
   "metadata": {},
   "outputs": [
    {
     "data": {
      "image/png": "[encoded data removed]",
      "text/plain": [
       "<Figure size 576x720 with 1 Axes>"
      ]
     },
     "metadata": {
      "needs_background": "light"
     },
     "output_type": "display_data"
    }
   ],
   "source": [
    "# Plot top N most used main verbs\n",
    "x_var = 'main verbs'\n",
    "y_var = 'frequency'\n",
    "title = 'Top %s Most used main verbs' % min(n_top, len(df))\n",
    "figsize = (8, 10)\n",
    "plot_bar_chart(df.sort_values(by=['frequency']), x_var, y_var, title, figsize)"
   ]
  },
  {
   "cell_type": "markdown",
   "id": "99ded652",
   "metadata": {},
   "source": [
    "<hr>\n",
    "<a href=\"https://github.com/argrecsys/arg-miner\">« Back to the repository.</a>"
   ]
  }
 ],
 "metadata": {
  "kernelspec": {
   "display_name": "Python 3 (ipykernel)",
   "language": "python",
   "name": "python3"
  },
  "language_info": {
   "codemirror_mode": {
    "name": "ipython",
    "version": 3
   },
   "file_extension": ".py",
   "mimetype": "text/x-python",
   "name": "python",
   "nbconvert_exporter": "python",
   "pygments_lexer": "ipython3",
   "version": "3.8.11"
  }
 },
 "nbformat": 4,
 "nbformat_minor": 5
}
