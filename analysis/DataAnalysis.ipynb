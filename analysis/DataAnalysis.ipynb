{
 "cells": [
  {
   "cell_type": "markdown",
   "id": "4e01f89a",
   "metadata": {},
   "source": [
    "# Data Analysis"
   ]
  },
  {
   "cell_type": "code",
   "execution_count": 1,
   "id": "672b590e",
   "metadata": {},
   "outputs": [],
   "source": [
    "# Importing libraries\n",
    "import yaml\n",
    "import pymongo"
   ]
  },
  {
   "cell_type": "code",
   "execution_count": 2,
   "id": "f94dbad4",
   "metadata": {},
   "outputs": [],
   "source": [
    "# File function - Read dict from YAML file\n",
    "def get_dict_from_yaml(yaml_path:str, encoding:str=\"utf-8\") -> dict:\n",
    "    result = dict()\n",
    "    \n",
    "    try:\n",
    "        with open(yaml_path, mode=\"r\", encoding=encoding) as file:\n",
    "            yaml_file = file.read()\n",
    "            result = yaml.load(yaml_file, Loader=yaml.FullLoader)\n",
    "    except Exception as e:\n",
    "        print(e)\n",
    "        \n",
    "    return result"
   ]
  },
  {
   "cell_type": "code",
   "execution_count": 3,
   "id": "5dfa58dc",
   "metadata": {},
   "outputs": [],
   "source": [
    "# Read MongoDB login info\n",
    "filepath = \"config/mdb_setup.yaml\"\n",
    "mdb_login = get_dict_from_yaml(filepath)"
   ]
  },
  {
   "cell_type": "code",
   "execution_count": 4,
   "id": "960f4d66",
   "metadata": {},
   "outputs": [],
   "source": [
    "# Create connetion to MongoDB\n",
    "client  = pymongo.MongoClient(mdb_login['db_server'], mdb_login['db_port'])\n",
    "db = client[mdb_login['db_name']]\n",
    "coll = db[mdb_login['db_collection']]"
   ]
  },
  {
   "cell_type": "code",
   "execution_count": 5,
   "id": "46b695ce",
   "metadata": {},
   "outputs": [
    {
     "name": "stdout",
     "output_type": "stream",
     "text": [
      "0\n"
     ]
    }
   ],
   "source": [
    "# Query data\n",
    "doc_list = []\n",
    "for doc in coll.find({}):\n",
    "    doc_list.append(doc)\n",
    "\n",
    "print(len(doc_list))"
   ]
  },
  {
   "cell_type": "markdown",
   "id": "99ded652",
   "metadata": {},
   "source": [
    "<hr>\n",
    "<a href=\"https://github.com/ansegura7/recsys-tweet-analysis\">« Back to the repository.</a>"
   ]
  }
 ],
 "metadata": {
  "kernelspec": {
   "display_name": "Python 3 (ipykernel)",
   "language": "python",
   "name": "python3"
  },
  "language_info": {
   "codemirror_mode": {
    "name": "ipython",
    "version": 3
   },
   "file_extension": ".py",
   "mimetype": "text/x-python",
   "name": "python",
   "nbconvert_exporter": "python",
   "pygments_lexer": "ipython3",
   "version": "3.8.11"
  }
 },
 "nbformat": 4,
 "nbformat_minor": 5
}
